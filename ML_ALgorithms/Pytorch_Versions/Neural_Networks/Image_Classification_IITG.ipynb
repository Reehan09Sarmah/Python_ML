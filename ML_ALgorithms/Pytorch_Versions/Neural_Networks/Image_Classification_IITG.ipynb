{
 "cells": [
  {
   "cell_type": "code",
   "execution_count": null,
   "id": "1ebdc144",
   "metadata": {},
   "outputs": [],
   "source": []
  },
  {
   "cell_type": "code",
   "execution_count": 1,
   "id": "058c6b85-404e-4aaf-a126-92c1732b05e0",
   "metadata": {},
   "outputs": [],
   "source": [
    "import torch\n",
    "import torchvision\n",
    "import torch.nn as nn\n",
    "import torch.optim as optim"
   ]
  },
  {
   "cell_type": "code",
   "execution_count": 2,
   "id": "32dbe1b4-2216-4978-b7b1-f3b4221556f0",
   "metadata": {},
   "outputs": [],
   "source": [
    "n_epochs = 40\n",
    "batch_size_train = 64\n",
    "batch_size_test = 1000\n",
    "\n",
    "learning_rate = 0.001\n",
    "momentum = 0.5"
   ]
  },
  {
   "cell_type": "markdown",
   "id": "3f5cb512-3e3c-454b-ab05-0437c221efed",
   "metadata": {},
   "source": [
    "#### Apply transformations to the images of mnist\n",
    "##### 0.1307 and 0.3081 are global mean and standard deviation of the MNIST dataset"
   ]
  },
  {
   "cell_type": "code",
   "execution_count": 3,
   "id": "1c3ad80a-1b83-4db4-8bd1-6bef59b1a120",
   "metadata": {},
   "outputs": [],
   "source": [
    "train_transforms = torchvision.transforms.Compose([\n",
    "    torchvision.transforms.ToTensor(), \n",
    "    torchvision.transforms.Normalize((0.1307,), (0.3081,))])\n",
    "\n",
    "test_transforms = torchvision.transforms.Compose([\n",
    "    torchvision.transforms.ToTensor(),\n",
    "    torchvision.transforms.Normalize((0.1307,), (0.3081,))])"
   ]
  },
  {
   "cell_type": "markdown",
   "id": "5c16ef84-46cf-46b5-86f6-cb7b0eb9a7d1",
   "metadata": {},
   "source": [
    "#### Load the data and apply the transforms"
   ]
  },
  {
   "cell_type": "code",
   "execution_count": 4,
   "id": "f4998043-8382-472d-a78a-c5be9b00b4ad",
   "metadata": {},
   "outputs": [],
   "source": [
    "train_loader = torch.utils.data.DataLoader(\n",
    "    torchvision.datasets.MNIST('/files/', train= True, download= True,\n",
    "                              transform=train_transforms),\n",
    "                              batch_size=batch_size_train, shuffle=True)\n",
    "\n",
    "test_loader = torch.utils.data.DataLoader(\n",
    "    torchvision.datasets.MNIST('/files/', train= False, download= True,\n",
    "                              transform=train_transforms),\n",
    "                              batch_size=batch_size_test, shuffle=True)"
   ]
  },
  {
   "cell_type": "markdown",
   "id": "0e24cf4b-5e36-44b2-85d2-c4f22c75c3e9",
   "metadata": {},
   "source": [
    "#### Let's check the data"
   ]
  },
  {
   "cell_type": "code",
   "execution_count": 5,
   "id": "78c70133-223f-4075-ba5a-9ee6263171c9",
   "metadata": {},
   "outputs": [],
   "source": [
    "# Move through the data in test_loader\n",
    "examples = enumerate(test_loader)\n",
    "# batch_id = index of the batch, next(examples) = move to next batch\n",
    "batch_idx, (example_data, example_targets) = next(examples)"
   ]
  },
  {
   "cell_type": "code",
   "execution_count": 6,
   "id": "df719839-d05f-44f9-b0a2-9415a837b224",
   "metadata": {},
   "outputs": [
    {
     "data": {
      "text/plain": [
       "torch.Size([1000, 1, 28, 28])"
      ]
     },
     "execution_count": 6,
     "metadata": {},
     "output_type": "execute_result"
    }
   ],
   "source": [
    "example_data.shape"
   ]
  },
  {
   "cell_type": "code",
   "execution_count": 7,
   "id": "2a4b8ab7-3588-4fb4-ba7f-c86790920b66",
   "metadata": {},
   "outputs": [
    {
     "data": {
      "image/png": "[encoded data removed]",
      "text/plain": [
       "<Figure size 640x480 with 4 Axes>"
      ]
     },
     "metadata": {},
     "output_type": "display_data"
    }
   ],
   "source": [
    "import matplotlib.pyplot as plt\n",
    "\n",
    "# Let's plot first 4 images along with their actual labels\n",
    "fig = plt.figure()\n",
    "for i in range(4):\n",
    "  plt.subplot(2,2,i+1)\n",
    "  plt.imshow(example_data[i][0], cmap='gray', interpolation='none')\n",
    "  plt.title(\"Number: {}\".format(example_targets[i]))\n",
    "  plt.xticks([])\n",
    "  plt.yticks([])"
   ]
  },
  {
   "cell_type": "markdown",
   "id": "fb4afd5a-6a84-474f-8959-46cc744805eb",
   "metadata": {},
   "source": [
    "### Define the Neural Network Model"
   ]
  },
  {
   "cell_type": "code",
   "execution_count": 8,
   "id": "8c69c1bc-4615-4af7-90e9-77be2011d443",
   "metadata": {},
   "outputs": [],
   "source": [
    "class Model_NN(nn.Module):\n",
    "    def __init__(self):\n",
    "        super(Model_NN, self).__init__()\n",
    "        # inside () -> (no. of input, no. of output)\n",
    "        self.layer0 = nn.Linear(28 * 28, 128)\n",
    "        self.layer1 = nn.Linear(128, 64)\n",
    "        self.layer2 = nn.Linear(64, 10)\n",
    "\n",
    "    def forward(self, x):\n",
    "        x = x.view(-1, 28 * 28) # Flatten input image. -1 = adjust itself\n",
    "        x = torch.relu(self.layer0(x))\n",
    "        x = torch.relu(self.layer1(x))\n",
    "        x = self.layer2(x) # as cross entropy uses softmax in it\n",
    "        return x"
   ]
  },
  {
   "cell_type": "code",
   "execution_count": 9,
   "id": "d147665d-1887-4d83-a441-a55df05df618",
   "metadata": {},
   "outputs": [],
   "source": [
    "model = Model_NN()\n",
    "criterion = nn.CrossEntropyLoss()\n",
    "optimizer = optim.SGD(model.parameters(), lr=learning_rate)"
   ]
  },
  {
   "cell_type": "markdown",
   "id": "401f60b2-0400-4d0a-9d17-ee2a7835b106",
   "metadata": {},
   "source": [
    "#### Train the model"
   ]
  },
  {
   "cell_type": "code",
   "execution_count": 10,
   "id": "c75ee484-06da-4a7f-ae2c-90a07e0011ad",
   "metadata": {},
   "outputs": [
    {
     "name": "stdout",
     "output_type": "stream",
     "text": [
      "Epoch [1/40]. Accuracy =  35.393%. Epoch Loss = 2.1643085205224533\n",
      "Epoch [2/40]. Accuracy =  63.288%. Epoch Loss = 1.6154009831993819\n",
      "Epoch [3/40]. Accuracy =  77.967%. Epoch Loss = 1.004291184103565\n",
      "Epoch [4/40]. Accuracy =  83.308%. Epoch Loss = 0.6973914818595975\n",
      "Epoch [5/40]. Accuracy =  85.763%. Epoch Loss = 0.555880660695562\n",
      "Epoch [6/40]. Accuracy =  87.157%. Epoch Loss = 0.4803361237557458\n",
      "Epoch [7/40]. Accuracy =  88.090%. Epoch Loss = 0.4342980667281507\n",
      "Epoch [8/40]. Accuracy =  88.722%. Epoch Loss = 0.403313653221898\n",
      "Epoch [9/40]. Accuracy =  89.240%. Epoch Loss = 0.38039769400665757\n",
      "Epoch [10/40]. Accuracy =  89.595%. Epoch Loss = 0.36283289834952304\n",
      "Epoch [11/40]. Accuracy =  89.990%. Epoch Loss = 0.3485446438542815\n",
      "Epoch [12/40]. Accuracy =  90.292%. Epoch Loss = 0.3370822435185345\n",
      "Epoch [13/40]. Accuracy =  90.568%. Epoch Loss = 0.32701015260332683\n",
      "Epoch [14/40]. Accuracy =  90.835%. Epoch Loss = 0.31786894082610034\n",
      "Epoch [15/40]. Accuracy =  91.022%. Epoch Loss = 0.31012892865264086\n",
      "Epoch [16/40]. Accuracy =  91.222%. Epoch Loss = 0.3031752212866664\n",
      "Epoch [17/40]. Accuracy =  91.375%. Epoch Loss = 0.2967912995421302\n",
      "Epoch [18/40]. Accuracy =  91.547%. Epoch Loss = 0.290893899098134\n",
      "Epoch [19/40]. Accuracy =  91.683%. Epoch Loss = 0.2852432577531221\n",
      "Epoch [20/40]. Accuracy =  91.857%. Epoch Loss = 0.27985595126173646\n",
      "Epoch [21/40]. Accuracy =  92.043%. Epoch Loss = 0.27498107073880207\n",
      "Epoch [22/40]. Accuracy =  92.148%. Epoch Loss = 0.2703956731283334\n",
      "Epoch [23/40]. Accuracy =  92.280%. Epoch Loss = 0.2657904977848662\n",
      "Epoch [24/40]. Accuracy =  92.395%. Epoch Loss = 0.2615678560441491\n",
      "Epoch [25/40]. Accuracy =  92.528%. Epoch Loss = 0.2574085780600114\n",
      "Epoch [26/40]. Accuracy =  92.682%. Epoch Loss = 0.25349614063083237\n",
      "Epoch [27/40]. Accuracy =  92.748%. Epoch Loss = 0.2496799736547826\n",
      "Epoch [28/40]. Accuracy =  92.892%. Epoch Loss = 0.24593483551399414\n",
      "Epoch [29/40]. Accuracy =  93.017%. Epoch Loss = 0.24231435513810945\n",
      "Epoch [30/40]. Accuracy =  93.093%. Epoch Loss = 0.23872639562910808\n",
      "Epoch [31/40]. Accuracy =  93.257%. Epoch Loss = 0.2352629121202332\n",
      "Epoch [32/40]. Accuracy =  93.347%. Epoch Loss = 0.23198016167386\n",
      "Epoch [33/40]. Accuracy =  93.482%. Epoch Loss = 0.22866199601656084\n",
      "Epoch [34/40]. Accuracy =  93.537%. Epoch Loss = 0.22551081334747103\n",
      "Epoch [35/40]. Accuracy =  93.653%. Epoch Loss = 0.22250025485084254\n",
      "Epoch [36/40]. Accuracy =  93.782%. Epoch Loss = 0.21932617690501563\n",
      "Epoch [37/40]. Accuracy =  93.837%. Epoch Loss = 0.21643195825932757\n",
      "Epoch [38/40]. Accuracy =  93.950%. Epoch Loss = 0.21331400954837737\n",
      "Epoch [39/40]. Accuracy =  94.040%. Epoch Loss = 0.21059261383151195\n",
      "Epoch [40/40]. Accuracy =  94.115%. Epoch Loss = 0.2077489487016633\n"
     ]
    }
   ],
   "source": [
    "for epoch in range(n_epochs):\n",
    "    model.train() # set the model on trainning mode\n",
    "    running_loss = 0.0\n",
    "    running_correct = 0.0\n",
    "    total = 0\n",
    "    for images, labels in train_loader:\n",
    "        total += labels.size(0)\n",
    "        \n",
    "        optimizer.zero_grad()\n",
    "        outputs = model(images)\n",
    "        \n",
    "        _, predicted = torch.max(outputs.data, 1)\n",
    "        \n",
    "        loss = criterion(outputs, labels)\n",
    "        loss.backward()\n",
    "        optimizer.step()\n",
    "\n",
    "        # Check the loss during training\n",
    "        running_loss += loss.item() # loss due to wrongly predicted\n",
    "        running_correct += (labels==predicted).sum().item() # correct prediction\n",
    "\n",
    "    epoch_loss = running_loss / len(train_loader)\n",
    "    epoch_acc = 100.00 * running_correct / total\n",
    "\n",
    "    print(f\"Epoch [{epoch + 1}/{n_epochs}]. Accuracy = {epoch_acc: .3f}%. Epoch Loss = {epoch_loss}\")"
   ]
  },
  {
   "cell_type": "markdown",
   "id": "6b26ed91-a21d-4c9d-ba86-2974e9319cf2",
   "metadata": {},
   "source": [
    "#### Evaluate the model"
   ]
  },
  {
   "cell_type": "code",
   "execution_count": 11,
   "id": "76e2dfbb-2c32-4a4c-9937-5646fb321f22",
   "metadata": {},
   "outputs": [
    {
     "name": "stdout",
     "output_type": "stream",
     "text": [
      "Test Accuracy: 93.990%\n"
     ]
    }
   ],
   "source": [
    "model.eval()\n",
    "correct, total = 0.0, 0.0\n",
    "\n",
    "with torch.no_grad():\n",
    "    for images, labels in test_loader:\n",
    "        outputs = model(images)\n",
    "        _,predicted = torch.max(outputs.data, 1)\n",
    "        total += labels.size(0)\n",
    "        correct += (predicted == labels).sum().item()\n",
    "\n",
    "accuracy = correct / total\n",
    "print(f\"Test Accuracy: {accuracy * 100:.3f}%\")        "
   ]
  },
  {
   "cell_type": "code",
   "execution_count": null,
   "id": "d7dfd3b7-2d6b-46e2-8f42-86840fd8f385",
   "metadata": {},
   "outputs": [],
   "source": []
  }
 ],
 "metadata": {
  "kernelspec": {
   "display_name": "imageclassification",
   "language": "python",
   "name": "imageclassification"
  },
  "language_info": {
   "codemirror_mode": {
    "name": "ipython",
    "version": 3
   },
   "file_extension": ".py",
   "mimetype": "text/x-python",
   "name": "python",
   "nbconvert_exporter": "python",
   "pygments_lexer": "ipython3",
   "version": "3.11.4"
  }
 },
 "nbformat": 4,
 "nbformat_minor": 5
}
