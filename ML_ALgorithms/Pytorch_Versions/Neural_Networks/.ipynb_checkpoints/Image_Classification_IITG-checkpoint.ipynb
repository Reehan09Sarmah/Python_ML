{
 "cells": [
  {
   "cell_type": "code",
   "execution_count": 1,
   "id": "058c6b85-404e-4aaf-a126-92c1732b05e0",
   "metadata": {},
   "outputs": [],
   "source": [
    "import torch\n",
    "import torchvision\n",
    "import torch.nn as nn\n",
    "import torch.optim as optim"
   ]
  },
  {
   "cell_type": "code",
   "execution_count": 2,
   "id": "32dbe1b4-2216-4978-b7b1-f3b4221556f0",
   "metadata": {},
   "outputs": [],
   "source": [
    "n_epochs = 10\n",
    "batch_size_train = 64\n",
    "batch_size_test = 1000\n",
    "\n",
    "learning_rate = 0.01\n",
    "momentum = 0.5"
   ]
  },
  {
   "cell_type": "markdown",
   "id": "3f5cb512-3e3c-454b-ab05-0437c221efed",
   "metadata": {},
   "source": [
    "#### Apply transformations to the images of mnist\n",
    "##### 0.1307 and 0.3081 are global mean and standard deviation of the MNIST dataset"
   ]
  },
  {
   "cell_type": "code",
   "execution_count": 3,
   "id": "1c3ad80a-1b83-4db4-8bd1-6bef59b1a120",
   "metadata": {},
   "outputs": [],
   "source": [
    "train_transforms = torchvision.transforms.Compose([\n",
    "    torchvision.transforms.ToTensor(), \n",
    "    torchvision.transforms.Normalize((0.1307,), (0.3081,))])\n",
    "\n",
    "test_transforms = torchvision.transforms.Compose([\n",
    "    torchvision.transforms.ToTensor(),\n",
    "    torchvision.transforms.Normalize((0.1307,), (0.3081,))])"
   ]
  },
  {
   "cell_type": "markdown",
   "id": "5c16ef84-46cf-46b5-86f6-cb7b0eb9a7d1",
   "metadata": {},
   "source": [
    "#### Load the data and apply the transforms"
   ]
  },
  {
   "cell_type": "code",
   "execution_count": 4,
   "id": "f4998043-8382-472d-a78a-c5be9b00b4ad",
   "metadata": {},
   "outputs": [],
   "source": [
    "train_loader = torch.utils.data.DataLoader(\n",
    "    torchvision.datasets.MNIST('/files/', train= True, download= True,\n",
    "                              transform=train_transforms),\n",
    "                              batch_size=batch_size_train, shuffle=True)\n",
    "\n",
    "test_loader = torch.utils.data.DataLoader(\n",
    "    torchvision.datasets.MNIST('/files/', train= False, download= True,\n",
    "                              transform=train_transforms),\n",
    "                              batch_size=batch_size_test, shuffle=True)"
   ]
  },
  {
   "cell_type": "markdown",
   "id": "0e24cf4b-5e36-44b2-85d2-c4f22c75c3e9",
   "metadata": {},
   "source": [
    "#### Let's check the data"
   ]
  },
  {
   "cell_type": "code",
   "execution_count": 5,
   "id": "78c70133-223f-4075-ba5a-9ee6263171c9",
   "metadata": {},
   "outputs": [],
   "source": [
    "# Move through the data in test_loader\n",
    "examples = enumerate(test_loader)\n",
    "# batch_id = index of the batch, next(examples) = move to next batch\n",
    "batch_idx, (example_data, example_targets) = next(examples)"
   ]
  },
  {
   "cell_type": "code",
   "execution_count": 6,
   "id": "df719839-d05f-44f9-b0a2-9415a837b224",
   "metadata": {},
   "outputs": [
    {
     "data": {
      "text/plain": [
       "torch.Size([1000, 1, 28, 28])"
      ]
     },
     "execution_count": 6,
     "metadata": {},
     "output_type": "execute_result"
    }
   ],
   "source": [
    "example_data.shape"
   ]
  },
  {
   "cell_type": "code",
   "execution_count": 7,
   "id": "2a4b8ab7-3588-4fb4-ba7f-c86790920b66",
   "metadata": {},
   "outputs": [
    {
     "data": {
      "image/png": "[encoded data removed]",
      "text/plain": [
       "<Figure size 640x480 with 4 Axes>"
      ]
     },
     "metadata": {},
     "output_type": "display_data"
    }
   ],
   "source": [
    "import matplotlib.pyplot as plt\n",
    "\n",
    "# Let's plot first 4 images along with their actual labels\n",
    "fig = plt.figure()\n",
    "for i in range(4):\n",
    "  plt.subplot(2,2,i+1)\n",
    "  plt.imshow(example_data[i][0], cmap='gray', interpolation='none')\n",
    "  plt.title(\"Number: {}\".format(example_targets[i]))\n",
    "  plt.xticks([])\n",
    "  plt.yticks([])"
   ]
  },
  {
   "cell_type": "markdown",
   "id": "fb4afd5a-6a84-474f-8959-46cc744805eb",
   "metadata": {},
   "source": [
    "### Define the Neural Network Model"
   ]
  },
  {
   "cell_type": "code",
   "execution_count": 8,
   "id": "8c69c1bc-4615-4af7-90e9-77be2011d443",
   "metadata": {},
   "outputs": [],
   "source": [
    "class Model_NN(nn.Module):\n",
    "    def __init__(self):\n",
    "        super(Model_NN, self).__init__()\n",
    "        # inside () -> (no. of input, no. of output)\n",
    "        self.layer0 = nn.Linear(28 * 28, 128)\n",
    "        self.layer1 = nn.Linear(128, 64)\n",
    "        self.layer2 = nn.Linear(64, 10)\n",
    "\n",
    "    def forward(self, x):\n",
    "        x = x.view(-1, 28 * 28) # Flatten input image. -1 = adjust itself\n",
    "        x = torch.relu(self.layer0(x))\n",
    "        x = torch.relu(self.layer1(x))\n",
    "        x = self.layer2(x) # as cross entropy uses softmax in it\n",
    "        return x"
   ]
  },
  {
   "cell_type": "code",
   "execution_count": 9,
   "id": "d147665d-1887-4d83-a441-a55df05df618",
   "metadata": {},
   "outputs": [],
   "source": [
    "model = Model_NN()\n",
    "criterion = nn.CrossEntropyLoss()\n",
    "optimizer = optim.SGD(model.parameters(), lr=learning_rate)"
   ]
  },
  {
   "cell_type": "markdown",
   "id": "401f60b2-0400-4d0a-9d17-ee2a7835b106",
   "metadata": {},
   "source": [
    "#### Train the model"
   ]
  },
  {
   "cell_type": "code",
   "execution_count": 10,
   "id": "c75ee484-06da-4a7f-ae2c-90a07e0011ad",
   "metadata": {},
   "outputs": [
    {
     "name": "stdout",
     "output_type": "stream",
     "text": [
      "Epoch [1/10]. Accuracy =  77.598%. Epoch Loss = 0.8407030041728701\n",
      "Epoch [2/10]. Accuracy =  90.885%. Epoch Loss = 0.31774090671304195\n",
      "Epoch [3/10]. Accuracy =  92.485%. Epoch Loss = 0.2604323224639143\n",
      "Epoch [4/10]. Accuracy =  93.575%. Epoch Loss = 0.22356191824382937\n",
      "Epoch [5/10]. Accuracy =  94.437%. Epoch Loss = 0.1953054335214563\n",
      "Epoch [6/10]. Accuracy =  95.027%. Epoch Loss = 0.17362238683386336\n",
      "Epoch [7/10]. Accuracy =  95.518%. Epoch Loss = 0.15601496266991471\n",
      "Epoch [8/10]. Accuracy =  95.998%. Epoch Loss = 0.14110066396579432\n",
      "Epoch [9/10]. Accuracy =  96.353%. Epoch Loss = 0.12874158975213512\n",
      "Epoch [10/10]. Accuracy =  96.635%. Epoch Loss = 0.11821739867861782\n"
     ]
    }
   ],
   "source": [
    "for epoch in range(n_epochs):\n",
    "    model.train() # set the model on trainning mode\n",
    "    running_loss = 0.0\n",
    "    running_correct = 0.0\n",
    "    total = 0\n",
    "    for images, labels in train_loader:\n",
    "        total += labels.size(0)\n",
    "        \n",
    "        optimizer.zero_grad()\n",
    "        outputs = model(images)\n",
    "        \n",
    "        _, predicted = torch.max(outputs.data, 1)\n",
    "        \n",
    "        loss = criterion(outputs, labels)\n",
    "        loss.backward()\n",
    "        optimizer.step()\n",
    "\n",
    "        # Check the loss during training\n",
    "        running_loss += loss.item() # loss due to wrongly predicted\n",
    "        running_correct += (labels==predicted).sum().item() # correct prediction\n",
    "\n",
    "    epoch_loss = running_loss / len(train_loader)\n",
    "    epoch_acc = 100.00 * running_correct / total\n",
    "\n",
    "    print(f\"Epoch [{epoch + 1}/{n_epochs}]. Accuracy = {epoch_acc: .3f}%. Epoch Loss = {epoch_loss}\")"
   ]
  },
  {
   "cell_type": "markdown",
   "id": "6b26ed91-a21d-4c9d-ba86-2974e9319cf2",
   "metadata": {},
   "source": [
    "#### Evaluate the model"
   ]
  },
  {
   "cell_type": "code",
   "execution_count": 11,
   "id": "76e2dfbb-2c32-4a4c-9937-5646fb321f22",
   "metadata": {},
   "outputs": [
    {
     "name": "stdout",
     "output_type": "stream",
     "text": [
      "Test Accuracy: 96.500%\n"
     ]
    }
   ],
   "source": [
    "model.eval()\n",
    "correct, total = 0.0, 0.0\n",
    "\n",
    "with torch.no_grad():\n",
    "    for images, labels in test_loader:\n",
    "        outputs = model(images)\n",
    "        _,predicted = torch.max(outputs.data, 1)\n",
    "        total += labels.size(0)\n",
    "        correct += (predicted == labels).sum().item()\n",
    "\n",
    "accuracy = correct / total\n",
    "print(f\"Test Accuracy: {accuracy * 100:.3f}%\")        "
   ]
  },
  {
   "cell_type": "code",
   "execution_count": null,
   "id": "d7dfd3b7-2d6b-46e2-8f42-86840fd8f385",
   "metadata": {},
   "outputs": [],
   "source": []
  }
 ],
 "metadata": {
  "kernelspec": {
   "display_name": "Python 3 (ipykernel)",
   "language": "python",
   "name": "python3"
  },
  "language_info": {
   "codemirror_mode": {
    "name": "ipython",
    "version": 3
   },
   "file_extension": ".py",
   "mimetype": "text/x-python",
   "name": "python",
   "nbconvert_exporter": "python",
   "pygments_lexer": "ipython3",
   "version": "3.11.4"
  }
 },
 "nbformat": 4,
 "nbformat_minor": 5
}
