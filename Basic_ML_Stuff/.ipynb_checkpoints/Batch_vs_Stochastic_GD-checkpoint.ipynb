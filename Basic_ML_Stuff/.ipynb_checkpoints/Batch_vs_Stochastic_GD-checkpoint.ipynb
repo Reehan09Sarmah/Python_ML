{
 "cells": [
  {
   "cell_type": "code",
   "execution_count": 1,
   "metadata": {
    "id": "0oiVb_bdF4MG"
   },
   "outputs": [],
   "source": [
    "import numpy as np\n",
    "import pandas as pd\n",
    "import time"
   ]
  },
  {
   "cell_type": "code",
   "execution_count": 2,
   "metadata": {
    "id": "qFqPBHlhGOmk"
   },
   "outputs": [],
   "source": [
    "df = pd.read_csv('content/Social_Network_Ads.csv')\n"
   ]
  },
  {
   "cell_type": "code",
   "execution_count": 3,
   "metadata": {
    "colab": {
     "base_uri": "https://localhost:8080/",
     "height": 206
    },
    "id": "Zm4yY1EaGVAE",
    "outputId": "1ba61d28-33f2-4599-b545-0dfade8a0fab"
   },
   "outputs": [
    {
     "data": {
      "text/html": [
       "<div>\n",
       "<style scoped>\n",
       "    .dataframe tbody tr th:only-of-type {\n",
       "        vertical-align: middle;\n",
       "    }\n",
       "\n",
       "    .dataframe tbody tr th {\n",
       "        vertical-align: top;\n",
       "    }\n",
       "\n",
       "    .dataframe thead th {\n",
       "        text-align: right;\n",
       "    }\n",
       "</style>\n",
       "<table border=\"1\" class=\"dataframe\">\n",
       "  <thead>\n",
       "    <tr style=\"text-align: right;\">\n",
       "      <th></th>\n",
       "      <th>User ID</th>\n",
       "      <th>Gender</th>\n",
       "      <th>Age</th>\n",
       "      <th>EstimatedSalary</th>\n",
       "      <th>Purchased</th>\n",
       "    </tr>\n",
       "  </thead>\n",
       "  <tbody>\n",
       "    <tr>\n",
       "      <th>0</th>\n",
       "      <td>15624510</td>\n",
       "      <td>Male</td>\n",
       "      <td>19</td>\n",
       "      <td>19000</td>\n",
       "      <td>0</td>\n",
       "    </tr>\n",
       "    <tr>\n",
       "      <th>1</th>\n",
       "      <td>15810944</td>\n",
       "      <td>Male</td>\n",
       "      <td>35</td>\n",
       "      <td>20000</td>\n",
       "      <td>0</td>\n",
       "    </tr>\n",
       "    <tr>\n",
       "      <th>2</th>\n",
       "      <td>15668575</td>\n",
       "      <td>Female</td>\n",
       "      <td>26</td>\n",
       "      <td>43000</td>\n",
       "      <td>0</td>\n",
       "    </tr>\n",
       "    <tr>\n",
       "      <th>3</th>\n",
       "      <td>15603246</td>\n",
       "      <td>Female</td>\n",
       "      <td>27</td>\n",
       "      <td>57000</td>\n",
       "      <td>0</td>\n",
       "    </tr>\n",
       "    <tr>\n",
       "      <th>4</th>\n",
       "      <td>15804002</td>\n",
       "      <td>Male</td>\n",
       "      <td>19</td>\n",
       "      <td>76000</td>\n",
       "      <td>0</td>\n",
       "    </tr>\n",
       "  </tbody>\n",
       "</table>\n",
       "</div>"
      ],
      "text/plain": [
       "    User ID  Gender  Age  EstimatedSalary  Purchased\n",
       "0  15624510    Male   19            19000          0\n",
       "1  15810944    Male   35            20000          0\n",
       "2  15668575  Female   26            43000          0\n",
       "3  15603246  Female   27            57000          0\n",
       "4  15804002    Male   19            76000          0"
      ]
     },
     "execution_count": 3,
     "metadata": {},
     "output_type": "execute_result"
    }
   ],
   "source": [
    "df.head()"
   ]
  },
  {
   "cell_type": "code",
   "execution_count": 4,
   "metadata": {
    "colab": {
     "base_uri": "https://localhost:8080/",
     "height": 206
    },
    "id": "grorfPZxGYfp",
    "outputId": "35a8ed9e-2a2b-480a-ed93-4984882119a3"
   },
   "outputs": [
    {
     "data": {
      "text/html": [
       "<div>\n",
       "<style scoped>\n",
       "    .dataframe tbody tr th:only-of-type {\n",
       "        vertical-align: middle;\n",
       "    }\n",
       "\n",
       "    .dataframe tbody tr th {\n",
       "        vertical-align: top;\n",
       "    }\n",
       "\n",
       "    .dataframe thead th {\n",
       "        text-align: right;\n",
       "    }\n",
       "</style>\n",
       "<table border=\"1\" class=\"dataframe\">\n",
       "  <thead>\n",
       "    <tr style=\"text-align: right;\">\n",
       "      <th></th>\n",
       "      <th>Age</th>\n",
       "      <th>EstimatedSalary</th>\n",
       "      <th>Purchased</th>\n",
       "    </tr>\n",
       "  </thead>\n",
       "  <tbody>\n",
       "    <tr>\n",
       "      <th>0</th>\n",
       "      <td>19</td>\n",
       "      <td>19000</td>\n",
       "      <td>0</td>\n",
       "    </tr>\n",
       "    <tr>\n",
       "      <th>1</th>\n",
       "      <td>35</td>\n",
       "      <td>20000</td>\n",
       "      <td>0</td>\n",
       "    </tr>\n",
       "    <tr>\n",
       "      <th>2</th>\n",
       "      <td>26</td>\n",
       "      <td>43000</td>\n",
       "      <td>0</td>\n",
       "    </tr>\n",
       "    <tr>\n",
       "      <th>3</th>\n",
       "      <td>27</td>\n",
       "      <td>57000</td>\n",
       "      <td>0</td>\n",
       "    </tr>\n",
       "    <tr>\n",
       "      <th>4</th>\n",
       "      <td>19</td>\n",
       "      <td>76000</td>\n",
       "      <td>0</td>\n",
       "    </tr>\n",
       "  </tbody>\n",
       "</table>\n",
       "</div>"
      ],
      "text/plain": [
       "   Age  EstimatedSalary  Purchased\n",
       "0   19            19000          0\n",
       "1   35            20000          0\n",
       "2   26            43000          0\n",
       "3   27            57000          0\n",
       "4   19            76000          0"
      ]
     },
     "execution_count": 4,
     "metadata": {},
     "output_type": "execute_result"
    }
   ],
   "source": [
    "df = df[['Age', 'EstimatedSalary', 'Purchased']]\n",
    "df.head()"
   ]
  },
  {
   "cell_type": "code",
   "execution_count": 5,
   "metadata": {
    "id": "Re_WgjpmGkB7"
   },
   "outputs": [],
   "source": [
    "X = df.iloc[:, 0:2]\n",
    "y = df.iloc[:, -1]"
   ]
  },
  {
   "cell_type": "code",
   "execution_count": 6,
   "metadata": {
    "colab": {
     "base_uri": "https://localhost:8080/"
    },
    "id": "9XOATA9oGvJl",
    "outputId": "d94894b4-fc3e-4296-c5d8-bf546beae777"
   },
   "outputs": [
    {
     "name": "stdout",
     "output_type": "stream",
     "text": [
      "(400, 2)\n"
     ]
    }
   ],
   "source": [
    "print(X.shape)"
   ]
  },
  {
   "cell_type": "code",
   "execution_count": 7,
   "metadata": {
    "id": "C-tGlTopGzPx"
   },
   "outputs": [],
   "source": [
    "from sklearn.preprocessing import StandardScaler\n",
    "\n",
    "scaler = StandardScaler()\n",
    "X_scaled = scaler.fit_transform(X)"
   ]
  },
  {
   "cell_type": "code",
   "execution_count": 8,
   "metadata": {
    "colab": {
     "base_uri": "https://localhost:8080/"
    },
    "id": "4kM0HWlfG6TR",
    "outputId": "91e81839-c33c-4ab0-9177-bc9c1a61035d"
   },
   "outputs": [
    {
     "data": {
      "text/plain": [
       "(320, 2)"
      ]
     },
     "execution_count": 8,
     "metadata": {},
     "output_type": "execute_result"
    }
   ],
   "source": [
    "from sklearn.model_selection import train_test_split\n",
    "X_train,X_test,y_train,y_test = train_test_split(X_scaled,y,test_size=0.2,random_state=2)\n",
    "X_train.shape"
   ]
  },
  {
   "cell_type": "code",
   "execution_count": 9,
   "metadata": {
    "id": "Wihh7W26HBMt"
   },
   "outputs": [],
   "source": [
    "import tensorflow as tf\n",
    "from tensorflow import keras\n",
    "from keras import Sequential\n",
    "from keras.layers import Dense"
   ]
  },
  {
   "cell_type": "code",
   "execution_count": 10,
   "metadata": {
    "id": "5XZhImUGHIRK"
   },
   "outputs": [],
   "source": [
    "model = Sequential([\n",
    "    Dense(10,activation='relu',input_dim=2),\n",
    "    Dense(10,activation='relu'),\n",
    "    Dense(1,activation='sigmoid')\n",
    "    ])\n",
    "\n"
   ]
  },
  {
   "cell_type": "code",
   "execution_count": 11,
   "metadata": {
    "colab": {
     "base_uri": "https://localhost:8080/"
    },
    "id": "MXQT6ZR8IIen",
    "outputId": "b8b2c3fd-c949-442e-c197-8062fbfdbd8c"
   },
   "outputs": [
    {
     "name": "stdout",
     "output_type": "stream",
     "text": [
      "Model: \"sequential\"\n",
      "_________________________________________________________________\n",
      " Layer (type)                Output Shape              Param #   \n",
      "=================================================================\n",
      " dense (Dense)               (None, 10)                30        \n",
      "                                                                 \n",
      " dense_1 (Dense)             (None, 10)                110       \n",
      "                                                                 \n",
      " dense_2 (Dense)             (None, 1)                 11        \n",
      "                                                                 \n",
      "=================================================================\n",
      "Total params: 151 (604.00 Byte)\n",
      "Trainable params: 151 (604.00 Byte)\n",
      "Non-trainable params: 0 (0.00 Byte)\n",
      "_________________________________________________________________\n"
     ]
    }
   ],
   "source": [
    "model.summary()"
   ]
  },
  {
   "cell_type": "markdown",
   "metadata": {},
   "source": [
    "### Who is faster?\n",
    "Ans: **Batch GD**. As it undergoes very less number of updation as compared to Stochastic GD. Let's Check both the cases"
   ]
  },
  {
   "cell_type": "code",
   "execution_count": 12,
   "metadata": {
    "colab": {
     "base_uri": "https://localhost:8080/"
    },
    "id": "Beoz_FuHI916",
    "outputId": "9614023d-bcd3-4c21-85f3-f04ba23c4056"
   },
   "outputs": [],
   "source": [
    "# Batch GD: For each epoch, choose all data points, predict, find loss and update parameters\n",
    "# Number of times  parameters are updated = # Number of epochs\n",
    "# Uncomment from below\n",
    "# model.compile(loss='binary_crossentropy', metrics=['accuracy'])\n",
    "# start = time.time()\n",
    "# model.fit(X_train, y_train, epochs=10, batch_size=320)  # Batch Gradient Descent --> 1 batch containing all the rows\n",
    "# end = time.time()\n",
    "# print('Time taken: ',end - start, 'ms')"
   ]
  },
  {
   "cell_type": "code",
   "execution_count": 13,
   "metadata": {
    "colab": {
     "base_uri": "https://localhost:8080/"
    },
    "id": "qS_kpTjKKB8l",
    "outputId": "6ce96fea-03bc-4090-985d-9dd148821f0d"
   },
   "outputs": [],
   "source": [
    "# Stochastic GD: For each epoch, choose each data point, predict, find loss and update parameters\n",
    "# Number of times  parameters are updated =  Number of epochs * Number of data points\n",
    "# Uncomment from below\n",
    "# model.compile(loss='binary_crossentropy', metrics=['accuracy'])\n",
    "# start = time.time()\n",
    "# model.fit(X_train, y_train, epochs=10, batch_size=1)  # Stochastic GD -> 1 batch containing 1 row. #batch = #rows (320 batches)\n",
    "# end = time.time()\n",
    "# print('Time taken: ',end - start, 'ms')"
   ]
  },
  {
   "cell_type": "markdown",
   "metadata": {},
   "source": [
    "So, the Batch GD is faster than Stochastic GD as it does less number of updations than the latter one. "
   ]
  },
  {
   "cell_type": "markdown",
   "metadata": {
    "id": "Y51ouP827BwV"
   },
   "source": [
    "### Who is faster to converge towards correct solution of weights and biases?\n",
    "Ans: **Stochastic GD**. As it undergoes large number of updation as compared to Batch GD, it will converge faster towards correct solution. Let's Check both the cases"
   ]
  },
  {
   "cell_type": "code",
   "execution_count": 14,
   "metadata": {
    "id": "aSCHNvo3K0gy"
   },
   "outputs": [],
   "source": [
    "# # test for Batch GD ---> Check validation accuracy\n",
    "# model.compile(loss='binary_crossentropy', metrics=['accuracy'])\n",
    "# history = model.fit(X_scaled, y, epochs=10, batch_size=400, validation_split=0.2)  # Batch Gradient Descent --> 1 batch containing all the rows\n"
   ]
  },
  {
   "cell_type": "code",
   "execution_count": 15,
   "metadata": {},
   "outputs": [],
   "source": [
    "# # plot the loss\n",
    "# import matplotlib.pyplot as plt\n",
    "# plt.plot(history.history['loss'])"
   ]
  },
  {
   "cell_type": "code",
   "execution_count": 16,
   "metadata": {},
   "outputs": [],
   "source": [
    "# # test for stochastic GD ---> Check validation accuracy\n",
    "# model.compile(loss='binary_crossentropy', metrics=['accuracy'])\n",
    "# history = model.fit(X_scaled, y, epochs=10, batch_size=1, validation_split=0.2)  # Batch Gradient Descent --> 1 batch containing all the rows"
   ]
  },
  {
   "cell_type": "markdown",
   "metadata": {},
   "source": [
    "Definitely, when doing Stochastic GD and Batch GD, the validation accuracy is more in the case of Stochastic GD as it does more number of updates than Batch GD"
   ]
  },
  {
   "cell_type": "code",
   "execution_count": 18,
   "metadata": {},
   "outputs": [],
   "source": [
    "# # plot the loss\n",
    "# import matplotlib.pyplot as plt\n",
    "# plt.plot(history.history['loss'])"
   ]
  },
  {
   "cell_type": "markdown",
   "metadata": {},
   "source": [
    "#### Both of the SGD and BGD has advantages and disadvantages of their own. "
   ]
  },
  {
   "cell_type": "markdown",
   "metadata": {},
   "source": [
    "### Mini Batch GD --> mixture of SGD and BGD\n",
    "Here, we would create small batches of the total dataset. Then for each epoch, select each batch then predict, calculate loss and update params.\n",
    "For each epoch, select each batch, update the params\n",
    "Number of updations = Number of epochs * Number of batches"
   ]
  },
  {
   "cell_type": "code",
   "execution_count": 19,
   "metadata": {},
   "outputs": [
    {
     "name": "stdout",
     "output_type": "stream",
     "text": [
      "Epoch 1/10\n",
      "10/10 [==============================] - 1s 29ms/step - loss: 0.6683 - accuracy: 0.7188 - val_loss: 0.6641 - val_accuracy: 0.6375\n",
      "Epoch 2/10\n",
      "10/10 [==============================] - 0s 8ms/step - loss: 0.6462 - accuracy: 0.7688 - val_loss: 0.6516 - val_accuracy: 0.7000\n",
      "Epoch 3/10\n",
      "10/10 [==============================] - 0s 6ms/step - loss: 0.6284 - accuracy: 0.8125 - val_loss: 0.6408 - val_accuracy: 0.8250\n",
      "Epoch 4/10\n",
      "10/10 [==============================] - 0s 6ms/step - loss: 0.6117 - accuracy: 0.8344 - val_loss: 0.6310 - val_accuracy: 0.8375\n",
      "Epoch 5/10\n",
      "10/10 [==============================] - 0s 6ms/step - loss: 0.5950 - accuracy: 0.8281 - val_loss: 0.6206 - val_accuracy: 0.8500\n",
      "Epoch 6/10\n",
      "10/10 [==============================] - 0s 6ms/step - loss: 0.5786 - accuracy: 0.8281 - val_loss: 0.6119 - val_accuracy: 0.8875\n",
      "Epoch 7/10\n",
      "10/10 [==============================] - 0s 5ms/step - loss: 0.5622 - accuracy: 0.8375 - val_loss: 0.6032 - val_accuracy: 0.8875\n",
      "Epoch 8/10\n",
      "10/10 [==============================] - 0s 6ms/step - loss: 0.5457 - accuracy: 0.8344 - val_loss: 0.5941 - val_accuracy: 0.8875\n",
      "Epoch 9/10\n",
      "10/10 [==============================] - 0s 5ms/step - loss: 0.5293 - accuracy: 0.8344 - val_loss: 0.5853 - val_accuracy: 0.8750\n",
      "Epoch 10/10\n",
      "10/10 [==============================] - 0s 5ms/step - loss: 0.5128 - accuracy: 0.8406 - val_loss: 0.5763 - val_accuracy: 0.8625\n"
     ]
    }
   ],
   "source": [
    "# test for Batch GD ---> Check validation accuracy\n",
    "model.compile(loss='binary_crossentropy', metrics=['accuracy'])\n",
    "history = model.fit(X_scaled, y, epochs=10, batch_size=32, validation_split=0.2)  # Batch Gradient Descent --> 1 batch containing all the rows"
   ]
  },
  {
   "cell_type": "code",
   "execution_count": 20,
   "metadata": {},
   "outputs": [
    {
     "data": {
      "text/plain": [
       "[<matplotlib.lines.Line2D at 0x1aa34a97d10>]"
      ]
     },
     "execution_count": 20,
     "metadata": {},
     "output_type": "execute_result"
    },
    {
     "data": {
      "image/png": "[encoded data removed]",
      "text/plain": [
       "<Figure size 640x480 with 1 Axes>"
      ]
     },
     "metadata": {},
     "output_type": "display_data"
    }
   ],
   "source": [
    "# plot the loss\n",
    "import matplotlib.pyplot as plt\n",
    "plt.plot(history.history['loss'])"
   ]
  },
  {
   "cell_type": "code",
   "execution_count": null,
   "metadata": {},
   "outputs": [],
   "source": []
  }
 ],
 "metadata": {
  "colab": {
   "provenance": []
  },
  "kernelspec": {
   "display_name": "Python 3 (ipykernel)",
   "language": "python",
   "name": "python3"
  },
  "language_info": {
   "codemirror_mode": {
    "name": "ipython",
    "version": 3
   },
   "file_extension": ".py",
   "mimetype": "text/x-python",
   "name": "python",
   "nbconvert_exporter": "python",
   "pygments_lexer": "ipython3",
   "version": "3.11.4"
  }
 },
 "nbformat": 4,
 "nbformat_minor": 4
}
