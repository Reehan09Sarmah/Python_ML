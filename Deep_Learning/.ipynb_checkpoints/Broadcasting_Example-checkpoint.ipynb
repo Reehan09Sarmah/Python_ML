{
 "cells": [
  {
   "cell_type": "markdown",
   "id": "a2d3ae39",
   "metadata": {},
   "source": [
    "Here is a matrix that contains the calories of Carbs, Protein and Fats in 100g of different foods.\n",
    "We need to calculate the percentage of carbs, proteins and fats in each food item without using explicit for loops.\n",
    "We take the total of each column and store it in a different matrix. We divide each value of the calorie matrix with its corresponding column's total and then multiply the value with 100 to get the percentage."
   ]
  },
  {
   "cell_type": "code",
   "execution_count": 3,
   "id": "c151235f",
   "metadata": {},
   "outputs": [
    {
     "name": "stdout",
     "output_type": "stream",
     "text": [
      "[[ 56.    0.    4.4  68. ]\n",
      " [  1.2 104.   52.    8. ]\n",
      " [  1.8 135.   99.    0.9]]\n"
     ]
    }
   ],
   "source": [
    "import numpy as np\n",
    "\n",
    "# Columns are: Apples, Chicken, Eggs, Potatoes\n",
    "# Rows are: Carbs, Proteins, Fats\n",
    "A = np.array([[56.0, 0.0, 4.4, 68.0],\n",
    "              [1.2, 104.0, 52.0, 8.0],\n",
    "              [1.8, 135.0, 99.0, 0.9]])\n",
    "\n",
    "print(A)"
   ]
  },
  {
   "cell_type": "markdown",
   "id": "87d58833",
   "metadata": {},
   "source": [
    "Now, Calculate the total sum of each column"
   ]
  },
  {
   "cell_type": "code",
   "execution_count": 4,
   "id": "c463fef0",
   "metadata": {},
   "outputs": [
    {
     "name": "stdout",
     "output_type": "stream",
     "text": [
      "[ 59.  239.  155.4  76.9]\n"
     ]
    }
   ],
   "source": [
    "cal = A.sum(axis=0)\n",
    "print(cal)"
   ]
  },
  {
   "cell_type": "markdown",
   "id": "1a74801d",
   "metadata": {},
   "source": [
    "Now, Percent of carbs, proteins and fats in each food item"
   ]
  },
  {
   "cell_type": "code",
   "execution_count": 6,
   "id": "e8c52aa5",
   "metadata": {},
   "outputs": [
    {
     "name": "stdout",
     "output_type": "stream",
     "text": [
      "[[94.91525424  0.          2.83140283 88.42652796]\n",
      " [ 2.03389831 43.51464435 33.46203346 10.40312094]\n",
      " [ 3.05084746 56.48535565 63.70656371  1.17035111]]\n"
     ]
    }
   ],
   "source": [
    "percent = 100 * A / cal.reshape(1, 4)\n",
    "print(percent)"
   ]
  }
 ],
 "metadata": {
  "kernelspec": {
   "display_name": "Python 3 (ipykernel)",
   "language": "python",
   "name": "python3"
  },
  "language_info": {
   "codemirror_mode": {
    "name": "ipython",
    "version": 3
   },
   "file_extension": ".py",
   "mimetype": "text/x-python",
   "name": "python",
   "nbconvert_exporter": "python",
   "pygments_lexer": "ipython3",
   "version": "3.11.4"
  }
 },
 "nbformat": 4,
 "nbformat_minor": 5
}
