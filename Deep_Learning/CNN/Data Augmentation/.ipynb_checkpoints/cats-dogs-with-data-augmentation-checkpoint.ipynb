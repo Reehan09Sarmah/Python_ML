{
 "cells": [
  {
   "cell_type": "code",
   "execution_count": 2,
   "id": "775eb2e8-d8cf-4b73-a222-b1b75ea9e30c",
   "metadata": {},
   "outputs": [],
   "source": [
    "from keras.preprocessing.image import ImageDataGenerator"
   ]
  },
  {
   "cell_type": "code",
   "execution_count": 6,
   "id": "d9161a79-90a1-4245-a0bb-01e4f8811e87",
   "metadata": {},
   "outputs": [
    {
     "name": "stdout",
     "output_type": "stream",
     "text": [
      "Found 2002 images belonging to 2 classes.\n",
      "Found 1012 images belonging to 2 classes.\n"
     ]
    }
   ],
   "source": [
    "batch_size = 16\n",
    "\n",
    "# augmentation configuration for training\n",
    "train_datagen = ImageDataGenerator(\n",
    "    rescale=1./255,\n",
    "    shear_range=0.2,\n",
    "    zoom_range=0.2,\n",
    "    horizontal_flip=True\n",
    ")\n",
    "\n",
    "#augmentation configuration for testing\n",
    "test_datagen = ImageDataGenerator(rescale=1./255)\n",
    "\n",
    "# generator that will read images found in subfolders of data/train and\n",
    "# generate batches of augmented image data\n",
    "train_generator = train_datagen.flow_from_directory(\n",
    "    'dogs_v_cats/train',\n",
    "    target_size=(150, 150),\n",
    "    batch_size=batch_size,\n",
    "    class_mode='binary'\n",
    ") # since we use binary cross entropy loss, we need binary labels.\n",
    "\n",
    "#similar generator for validation data\n",
    "validation_generator = test_datagen.flow_from_directory(\n",
    "    'dogs_v_cats/valid',\n",
    "    target_size=(150, 150),\n",
    "    batch_size=batch_size,\n",
    "    class_mode='binary'\n",
    ")"
   ]
  },
  {
   "cell_type": "code",
   "execution_count": 7,
   "id": "d1946aa0-871d-47f1-8f1c-78b3c3b2c888",
   "metadata": {},
   "outputs": [],
   "source": [
    "from keras.models import Sequential\n",
    "from keras.layers import Conv2D, MaxPooling2D\n",
    "from keras.layers import Flatten, Dense, Dropout"
   ]
  },
  {
   "cell_type": "code",
   "execution_count": 8,
   "id": "ed4f5538-725a-490c-8ccd-c88bd2da48c7",
   "metadata": {},
   "outputs": [],
   "source": [
    "model = Sequential()\n",
    "\n",
    "model.add(Conv2D(32, (3,3), activation = 'relu' , input_shape=(150, 150, 3)))\n",
    "model.add(MaxPooling2D(pool_size=(2,2)))\n",
    "\n",
    "model.add(Conv2D(32, (3,3), activation = 'relu'))\n",
    "model.add(MaxPooling2D(pool_size=(2,2)))\n",
    "\n",
    "model.add(Conv2D(64, (3,3), activation = 'relu'))\n",
    "model.add(MaxPooling2D(pool_size=(2,2)))"
   ]
  },
  {
   "cell_type": "code",
   "execution_count": 9,
   "id": "0fdb00dd-e1f4-43ee-862f-ec92fcfcd0d1",
   "metadata": {},
   "outputs": [],
   "source": [
    "model.add(Flatten())\n",
    "model.add(Dense(64, activation='relu'))\n",
    "model.add(Dropout(0.5))\n",
    "model.add(Dense(1, activation = 'sigmoid'))\n",
    "\n",
    "model.compile(optimizer='rmsprop', \n",
    "              loss= 'binary_crossentropy', \n",
    "              metrics = ['accuracy'])"
   ]
  },
  {
   "cell_type": "code",
   "execution_count": 10,
   "id": "b3357e6a-b42e-42fe-b358-85c436371632",
   "metadata": {},
   "outputs": [
    {
     "name": "stderr",
     "output_type": "stream",
     "text": [
      "C:\\Users\\DELL\\AppData\\Local\\Temp\\ipykernel_17264\\4200277243.py:1: UserWarning: `Model.fit_generator` is deprecated and will be removed in a future version. Please use `Model.fit`, which supports generators.\n",
      "  model.fit_generator( # when you use Image generator\n"
     ]
    },
    {
     "name": "stdout",
     "output_type": "stream",
     "text": [
      "Epoch 1/25\n",
      "125/125 [==============================] - 33s 255ms/step - loss: 0.6962 - accuracy: 0.5186 - val_loss: 0.6811 - val_accuracy: 0.5950\n",
      "Epoch 2/25\n",
      "125/125 [==============================] - 31s 248ms/step - loss: 0.6736 - accuracy: 0.5997 - val_loss: 0.6366 - val_accuracy: 0.6100\n",
      "Epoch 3/25\n",
      "125/125 [==============================] - 30s 236ms/step - loss: 0.6451 - accuracy: 0.6375 - val_loss: 0.6029 - val_accuracy: 0.6875\n",
      "Epoch 4/25\n",
      "125/125 [==============================] - 30s 236ms/step - loss: 0.6174 - accuracy: 0.6596 - val_loss: 0.6627 - val_accuracy: 0.5850\n",
      "Epoch 5/25\n",
      "125/125 [==============================] - 29s 235ms/step - loss: 0.6045 - accuracy: 0.6662 - val_loss: 0.5843 - val_accuracy: 0.7013\n",
      "Epoch 6/25\n",
      "125/125 [==============================] - 29s 234ms/step - loss: 0.5917 - accuracy: 0.6803 - val_loss: 0.5720 - val_accuracy: 0.7050\n",
      "Epoch 7/25\n",
      "125/125 [==============================] - 30s 243ms/step - loss: 0.5609 - accuracy: 0.7170 - val_loss: 0.5685 - val_accuracy: 0.7100\n",
      "Epoch 8/25\n",
      "125/125 [==============================] - 30s 242ms/step - loss: 0.5713 - accuracy: 0.7271 - val_loss: 0.5340 - val_accuracy: 0.7362\n",
      "Epoch 9/25\n",
      "125/125 [==============================] - 30s 240ms/step - loss: 0.5509 - accuracy: 0.7256 - val_loss: 0.5744 - val_accuracy: 0.7362\n",
      "Epoch 10/25\n",
      "125/125 [==============================] - 30s 237ms/step - loss: 0.5310 - accuracy: 0.7296 - val_loss: 0.5789 - val_accuracy: 0.7237\n",
      "Epoch 11/25\n",
      "125/125 [==============================] - 30s 239ms/step - loss: 0.5296 - accuracy: 0.7457 - val_loss: 0.5222 - val_accuracy: 0.7487\n",
      "Epoch 12/25\n",
      "125/125 [==============================] - 30s 237ms/step - loss: 0.5010 - accuracy: 0.7583 - val_loss: 0.6006 - val_accuracy: 0.7475\n",
      "Epoch 13/25\n",
      "125/125 [==============================] - 30s 237ms/step - loss: 0.4962 - accuracy: 0.7684 - val_loss: 0.5223 - val_accuracy: 0.7487\n",
      "Epoch 14/25\n",
      "125/125 [==============================] - 30s 240ms/step - loss: 0.4926 - accuracy: 0.7704 - val_loss: 0.5236 - val_accuracy: 0.7613\n",
      "Epoch 15/25\n",
      "125/125 [==============================] - 30s 238ms/step - loss: 0.4861 - accuracy: 0.7754 - val_loss: 0.5672 - val_accuracy: 0.7262\n",
      "Epoch 16/25\n",
      "125/125 [==============================] - 31s 246ms/step - loss: 0.4651 - accuracy: 0.7850 - val_loss: 0.5205 - val_accuracy: 0.7625\n",
      "Epoch 17/25\n",
      "125/125 [==============================] - 32s 253ms/step - loss: 0.4589 - accuracy: 0.7920 - val_loss: 0.4971 - val_accuracy: 0.7738\n",
      "Epoch 18/25\n",
      "125/125 [==============================] - 34s 272ms/step - loss: 0.4395 - accuracy: 0.8016 - val_loss: 0.8387 - val_accuracy: 0.6575\n",
      "Epoch 19/25\n",
      "125/125 [==============================] - 31s 244ms/step - loss: 0.4535 - accuracy: 0.7900 - val_loss: 0.4891 - val_accuracy: 0.7825\n",
      "Epoch 20/25\n",
      "125/125 [==============================] - 30s 243ms/step - loss: 0.4313 - accuracy: 0.8031 - val_loss: 0.5949 - val_accuracy: 0.7550\n",
      "Epoch 21/25\n",
      "125/125 [==============================] - 30s 242ms/step - loss: 0.4214 - accuracy: 0.8036 - val_loss: 0.4916 - val_accuracy: 0.7900\n",
      "Epoch 22/25\n",
      "125/125 [==============================] - 30s 243ms/step - loss: 0.4153 - accuracy: 0.8177 - val_loss: 0.5091 - val_accuracy: 0.7775\n",
      "Epoch 23/25\n",
      "125/125 [==============================] - 31s 248ms/step - loss: 0.4126 - accuracy: 0.8122 - val_loss: 0.5224 - val_accuracy: 0.8062\n",
      "Epoch 24/25\n",
      "125/125 [==============================] - 31s 248ms/step - loss: 0.3977 - accuracy: 0.8177 - val_loss: 0.4882 - val_accuracy: 0.7862\n",
      "Epoch 25/25\n",
      "125/125 [==============================] - 31s 248ms/step - loss: 0.3964 - accuracy: 0.8318 - val_loss: 0.5045 - val_accuracy: 0.7775\n"
     ]
    },
    {
     "data": {
      "text/plain": [
       "<keras.src.callbacks.History at 0x262fcf4e6d0>"
      ]
     },
     "execution_count": 10,
     "metadata": {},
     "output_type": "execute_result"
    }
   ],
   "source": [
    "model.fit_generator( # when you use Image generator\n",
    "    train_generator,\n",
    "    steps_per_epoch = 2000 // batch_size,\n",
    "    epochs = 25,\n",
    "    validation_data = validation_generator,\n",
    "    validation_steps = 800 // batch_size\n",
    ")"
   ]
  },
  {
   "cell_type": "code",
   "execution_count": null,
   "id": "7a721c8c-09dd-48db-bd26-5187bd02c3bd",
   "metadata": {},
   "outputs": [],
   "source": []
  }
 ],
 "metadata": {
  "kernelspec": {
   "display_name": "Python 3 (ipykernel)",
   "language": "python",
   "name": "python3"
  },
  "language_info": {
   "codemirror_mode": {
    "name": "ipython",
    "version": 3
   },
   "file_extension": ".py",
   "mimetype": "text/x-python",
   "name": "python",
   "nbconvert_exporter": "python",
   "pygments_lexer": "ipython3",
   "version": "3.11.4"
  }
 },
 "nbformat": 4,
 "nbformat_minor": 5
}
