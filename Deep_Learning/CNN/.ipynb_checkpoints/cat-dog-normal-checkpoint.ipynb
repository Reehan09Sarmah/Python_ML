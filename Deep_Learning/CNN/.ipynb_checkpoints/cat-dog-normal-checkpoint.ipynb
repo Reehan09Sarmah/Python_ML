{
 "cells": [
  {
   "cell_type": "code",
   "execution_count": 1,
   "id": "77c93bee-4d21-47f0-9919-109f84fe3ba6",
   "metadata": {},
   "outputs": [],
   "source": [
    "import cv2\n",
    "import os\n",
    "import random\n",
    "import numpy as np"
   ]
  },
  {
   "cell_type": "code",
   "execution_count": 2,
   "id": "1b4f0e5c-5f58-4e3d-aad6-631d4bcafb4d",
   "metadata": {},
   "outputs": [],
   "source": [
    "mydir = r'D:\\IIT-G Internship\\Python_ML\\Deep_Learning\\CNN\\Dataset\\dogs_vs_cats\\train'"
   ]
  },
  {
   "cell_type": "code",
   "execution_count": 3,
   "id": "0909e970-c6ab-4473-b694-d656cae0fd33",
   "metadata": {},
   "outputs": [],
   "source": [
    "categories = ['cats', 'dogs']"
   ]
  },
  {
   "cell_type": "code",
   "execution_count": 4,
   "id": "62de0c82-016b-4310-ad8f-3ccea0fad866",
   "metadata": {},
   "outputs": [],
   "source": [
    "data = []\n",
    "# to go to each folder -- cats and dogs, then store the images in a list and give them \n",
    "# lables according to the folder they are stored in. store image along with their\n",
    "# labels.\n",
    "for i in categories:\n",
    "    folder_path = os.path.join(mydir, i)\n",
    "\n",
    "    if i == 'cats':\n",
    "        label = 0\n",
    "    else:\n",
    "        label = 1\n",
    "\n",
    "    for j in os.listdir(folder_path):\n",
    "        img_path = os.path.join(folder_path, j)\n",
    "        img = cv2.imread(img_path)\n",
    "        img = cv2.resize(img, (150, 150))\n",
    "        data.append([img, label])"
   ]
  },
  {
   "cell_type": "code",
   "execution_count": 5,
   "id": "f8ca4062-f13e-433f-93a1-1263827cb459",
   "metadata": {},
   "outputs": [],
   "source": [
    "random.shuffle(data) "
   ]
  },
  {
   "cell_type": "code",
   "execution_count": 6,
   "id": "218a403b-5c33-4ddd-9ece-19051b70e600",
   "metadata": {},
   "outputs": [],
   "source": [
    "# element in data is in the form [image, label]\n",
    "X = []\n",
    "y = []\n",
    "# so, X will contain the images and y will contain the corresponding labels.\n",
    "for i in data:\n",
    "    X.append(i[0])\n",
    "    y.append(i[1])"
   ]
  },
  {
   "cell_type": "code",
   "execution_count": 7,
   "id": "c5804e07-265b-4058-a58c-5d895f92eece",
   "metadata": {},
   "outputs": [],
   "source": [
    "y = np.array(y)"
   ]
  },
  {
   "cell_type": "code",
   "execution_count": 8,
   "id": "b5e5fee3-1109-4824-a7b5-5217d306f876",
   "metadata": {},
   "outputs": [],
   "source": [
    "X = np.array(X)"
   ]
  },
  {
   "cell_type": "code",
   "execution_count": 9,
   "id": "af1bcb7c-1fd4-4f63-9ed9-4cc0c32622e0",
   "metadata": {},
   "outputs": [
    {
     "data": {
      "text/plain": [
       "(20000, 150, 150, 3)"
      ]
     },
     "execution_count": 9,
     "metadata": {},
     "output_type": "execute_result"
    }
   ],
   "source": [
    "X.shape"
   ]
  },
  {
   "cell_type": "code",
   "execution_count": 10,
   "id": "85c7ac67-9519-4f63-86f3-67a6f3f8a996",
   "metadata": {},
   "outputs": [],
   "source": [
    "X = X/255"
   ]
  },
  {
   "cell_type": "code",
   "execution_count": 12,
   "id": "606331e6-f83f-458d-98b8-687734e59e71",
   "metadata": {},
   "outputs": [],
   "source": [
    "from keras import Sequential\n",
    "from keras.layers import Conv2D, MaxPooling2D, Dense, Flatten, Activation, Dropout"
   ]
  },
  {
   "cell_type": "code",
   "execution_count": 14,
   "id": "3bea4c50-8857-4016-8066-350fc110b16f",
   "metadata": {},
   "outputs": [],
   "source": [
    "model = Sequential()\n",
    "model.add(Conv2D(32, (3,3),  activation='relu', input_shape=(150, 150, 3)))\n",
    "model.add(MaxPooling2D(pool_size=(2,2)))\n",
    "\n",
    "model.add(Conv2D(32, (3,3), activation='relu'))\n",
    "model.add(MaxPooling2D(pool_size=(2,2)))\n",
    "\n",
    "model.add(Conv2D(64, (3,3), activation='relu'))\n",
    "model.add(MaxPooling2D(pool_size=(2,2)))"
   ]
  },
  {
   "cell_type": "code",
   "execution_count": 15,
   "id": "60cf50bd-256c-4c5f-bae8-f3228f66e758",
   "metadata": {},
   "outputs": [],
   "source": [
    "model.add(Flatten())\n",
    "model.add(Dense(64, activation='relu'))\n",
    "model.add(Dropout(0.5))\n",
    "model.add(Dense(1, activation='sigmoid'))"
   ]
  },
  {
   "cell_type": "code",
   "execution_count": 16,
   "id": "946f5663-aad7-427e-987b-0ced504020ab",
   "metadata": {},
   "outputs": [],
   "source": [
    "model.compile(loss='binary_crossentropy', optimizer='rmsprop', metrics=['accuracy'])"
   ]
  },
  {
   "cell_type": "code",
   "execution_count": null,
   "id": "7a468726-936e-4bd0-9001-c2c9ed69387e",
   "metadata": {},
   "outputs": [],
   "source": [
    "model.fit(X, y, epochs=5, validation_split=0.1)"
   ]
  }
 ],
 "metadata": {
  "kernelspec": {
   "display_name": "Python 3 (ipykernel)",
   "language": "python",
   "name": "python3"
  },
  "language_info": {
   "codemirror_mode": {
    "name": "ipython",
    "version": 3
   },
   "file_extension": ".py",
   "mimetype": "text/x-python",
   "name": "python",
   "nbconvert_exporter": "python",
   "pygments_lexer": "ipython3",
   "version": "3.11.4"
  }
 },
 "nbformat": 4,
 "nbformat_minor": 5
}
