{
 "cells": [
  {
   "cell_type": "code",
   "execution_count": 1,
   "id": "a2f682c8-a209-4538-bcda-c5b6188b3bab",
   "metadata": {},
   "outputs": [],
   "source": [
    "import numpy as np\n",
    "import pandas as pd"
   ]
  },
  {
   "cell_type": "markdown",
   "id": "7e0e6eae-1f0c-4cc5-b976-b13388deea04",
   "metadata": {},
   "source": [
    "We'll create a dataset of features being cgpa and profile score and the output or target will be the salary the student will get (in lpa). We are using this to understand backpropagation in code. The NN that will be used will be of 2 layers --> 1 hidden layer of 2 neurons (get an input of 2 features) and 1 output layer with 1 neuron. So there will be (2 x 2 + 2) + (1 x 2 + 1) = 9 weights and biases in the model"
   ]
  },
  {
   "cell_type": "code",
   "execution_count": 2,
   "id": "c5cec145-9f51-4450-9d94-193a3d457d50",
   "metadata": {},
   "outputs": [],
   "source": [
    "df = pd.DataFrame([[8, 8, 4], [7, 9, 5], [6, 10, 6], [5, 12, 7]], columns=['cgpa', 'profile_score', 'lpa'])"
   ]
  },
  {
   "cell_type": "code",
   "execution_count": 3,
   "id": "ec52227c-1896-4110-bd4e-c7edc7a623ee",
   "metadata": {},
   "outputs": [
    {
     "data": {
      "text/html": [
       "<div>\n",
       "<style scoped>\n",
       "    .dataframe tbody tr th:only-of-type {\n",
       "        vertical-align: middle;\n",
       "    }\n",
       "\n",
       "    .dataframe tbody tr th {\n",
       "        vertical-align: top;\n",
       "    }\n",
       "\n",
       "    .dataframe thead th {\n",
       "        text-align: right;\n",
       "    }\n",
       "</style>\n",
       "<table border=\"1\" class=\"dataframe\">\n",
       "  <thead>\n",
       "    <tr style=\"text-align: right;\">\n",
       "      <th></th>\n",
       "      <th>cgpa</th>\n",
       "      <th>profile_score</th>\n",
       "      <th>lpa</th>\n",
       "    </tr>\n",
       "  </thead>\n",
       "  <tbody>\n",
       "    <tr>\n",
       "      <th>0</th>\n",
       "      <td>8</td>\n",
       "      <td>8</td>\n",
       "      <td>4</td>\n",
       "    </tr>\n",
       "    <tr>\n",
       "      <th>1</th>\n",
       "      <td>7</td>\n",
       "      <td>9</td>\n",
       "      <td>5</td>\n",
       "    </tr>\n",
       "    <tr>\n",
       "      <th>2</th>\n",
       "      <td>6</td>\n",
       "      <td>10</td>\n",
       "      <td>6</td>\n",
       "    </tr>\n",
       "    <tr>\n",
       "      <th>3</th>\n",
       "      <td>5</td>\n",
       "      <td>12</td>\n",
       "      <td>7</td>\n",
       "    </tr>\n",
       "  </tbody>\n",
       "</table>\n",
       "</div>"
      ],
      "text/plain": [
       "   cgpa  profile_score  lpa\n",
       "0     8              8    4\n",
       "1     7              9    5\n",
       "2     6             10    6\n",
       "3     5             12    7"
      ]
     },
     "execution_count": 3,
     "metadata": {},
     "output_type": "execute_result"
    }
   ],
   "source": [
    "df"
   ]
  },
  {
   "cell_type": "code",
   "execution_count": 5,
   "id": "187dde61-7550-4d90-a193-73b737d30ca9",
   "metadata": {},
   "outputs": [],
   "source": [
    "# Arch for our model --> 2 input, 2 neurons layer 1, 1 in output = [2 2 1]\n",
    "def initialize_parameters(layer_dims):  # input --> our model's architecture\n",
    "    np.random.seed(3)\n",
    "    parameters = {}\n",
    "    L = len(layer_dims)\n",
    "\n",
    "    for l in range(1, L):\n",
    "        parameters['W' + str(l)] = np.ones((layer_dims[l-1], layer_dims[l]))*0.1\n",
    "        parameters['b' + str(l)] = np.zeros((layer_dims[l], 1))\n",
    "\n",
    "    return parameters\n",
    "    # this function will initialise all our w params as 0.1 and b as 0"
   ]
  },
  {
   "cell_type": "code",
   "execution_count": 6,
   "id": "04858b83-7bd0-4d5e-a702-a1f608f0dcc3",
   "metadata": {},
   "outputs": [
    {
     "data": {
      "text/plain": [
       "{'W1': array([[0.1, 0.1],\n",
       "        [0.1, 0.1]]),\n",
       " 'b1': array([[0.],\n",
       "        [0.]]),\n",
       " 'W2': array([[0.1],\n",
       "        [0.1]]),\n",
       " 'b2': array([[0.]])}"
      ]
     },
     "execution_count": 6,
     "metadata": {},
     "output_type": "execute_result"
    }
   ],
   "source": [
    "initialize_parameters([2, 2, 1])"
   ]
  },
  {
   "cell_type": "code",
   "execution_count": 25,
   "id": "7cc9f510-7472-49a4-bc1e-ffddad385311",
   "metadata": {},
   "outputs": [],
   "source": [
    "def linear_forward(A_prev, W, b): # output for given neuron\n",
    "\n",
    "    Z = np.dot(W.T, A_prev) + b\n",
    "\n",
    "    return Z "
   ]
  },
  {
   "cell_type": "code",
   "execution_count": 26,
   "id": "3fb97345-e223-4067-a4b6-12607b714685",
   "metadata": {},
   "outputs": [],
   "source": [
    "# Main function for forwad propagation\n",
    "\n",
    "def L_layer_forward(X, parameters):\n",
    "    A = X\n",
    "    L = len(parameters) // 2\n",
    "\n",
    "    for l in range(1, L + 1):\n",
    "        A_prev = A\n",
    "        W1 = parameters['W' + str(l)]\n",
    "        b1 = parameters['b' + str(l)]\n",
    "        print(\"A\"+str(l-1)+ \": \", A_prev)\n",
    "        print(\"W\"+str(l)+\": \", W1)\n",
    "        print(\"b\"+str(l)+\": \", b1)\n",
    "        print(\"--\"*20)\n",
    "\n",
    "        A = linear_forward(A_prev, W1, b1)\n",
    "        print(\"A\"+str(l)+\": \", A)\n",
    "        print(\"++\"*20)\n",
    "\n",
    "    return A, A_prev"
   ]
  },
  {
   "cell_type": "code",
   "execution_count": 27,
   "id": "38bd2045-9e12-456d-862a-65cb14138b04",
   "metadata": {},
   "outputs": [],
   "source": [
    "X = df[['cgpa', 'profile_score']].values[0].reshape(2,1)  # Shape(no. of features, no. of training examples)\n",
    "y = df[['lpa']].values[0][0]"
   ]
  },
  {
   "cell_type": "code",
   "execution_count": 28,
   "id": "10253890-9735-43dc-b16d-31ffdf851268",
   "metadata": {},
   "outputs": [
    {
     "name": "stdout",
     "output_type": "stream",
     "text": [
      "A0:  [[8]\n",
      " [8]]\n",
      "W1:  [[0.1 0.1]\n",
      " [0.1 0.1]]\n",
      "b1:  [[0.]\n",
      " [0.]]\n",
      "----------------------------------------\n",
      "A1:  [[1.6]\n",
      " [1.6]]\n",
      "++++++++++++++++++++++++++++++++++++++++\n",
      "A1:  [[1.6]\n",
      " [1.6]]\n",
      "W2:  [[0.1]\n",
      " [0.1]]\n",
      "b2:  [[0.]]\n",
      "----------------------------------------\n",
      "A2:  [[0.32]]\n",
      "++++++++++++++++++++++++++++++++++++++++\n"
     ]
    },
    {
     "data": {
      "text/plain": [
       "(array([[0.32]]),\n",
       " array([[1.6],\n",
       "        [1.6]]))"
      ]
     },
     "execution_count": 28,
     "metadata": {},
     "output_type": "execute_result"
    }
   ],
   "source": [
    "parameters = initialize_parameters([2, 2, 1])\n",
    "\n",
    "L_layer_forward(X, parameters)"
   ]
  },
  {
   "cell_type": "code",
   "execution_count": null,
   "id": "1760a019-934e-4349-bb72-90d110e4b258",
   "metadata": {},
   "outputs": [],
   "source": []
  }
 ],
 "metadata": {
  "kernelspec": {
   "display_name": "Python 3 (ipykernel)",
   "language": "python",
   "name": "python3"
  },
  "language_info": {
   "codemirror_mode": {
    "name": "ipython",
    "version": 3
   },
   "file_extension": ".py",
   "mimetype": "text/x-python",
   "name": "python",
   "nbconvert_exporter": "python",
   "pygments_lexer": "ipython3",
   "version": "3.11.4"
  }
 },
 "nbformat": 4,
 "nbformat_minor": 5
}
